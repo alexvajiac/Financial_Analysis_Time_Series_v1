{
 "cells": [
  {
   "cell_type": "code",
   "execution_count": 14,
   "id": "122fc788-4c33-43a2-ac62-5daf7e6c6105",
   "metadata": {},
   "outputs": [],
   "source": [
    "import numpy as np\n",
    "import pandas as pd\n",
    "\n",
    "tickers = [\"BRK\",\"MMC\",\"PGR\",\"ALL\",\"AJG\",\"MET\",\"PRU\",\"TRV\",\"AIG\",\"FNF\",\"MKL\",\"FAF\",\"HIG\",\"BRO\",\"AIZ\",\"AFL\",\"UNM\"]\n",
    "dataframes = {}\n",
    "\n",
    "for ticker in tickers:\n",
    "    df = pd.read_csv(f\"FinancialRatios_{ticker}.csv\")\n",
    "    df['Date'] = pd.to_datetime(df['Date'])\n",
    "    df.set_index('Date', inplace=True)\n",
    "    dataframes[ticker] = df\n",
    "\n",
    "    "
   ]
  },
  {
   "cell_type": "code",
   "execution_count": 18,
   "id": "b07fb764-a74c-465f-a21c-b742716b45cb",
   "metadata": {},
   "outputs": [
    {
     "name": "stdout",
     "output_type": "stream",
     "text": [
      "<class 'pandas.core.frame.DataFrame'>\n",
      "DatetimeIndex: 39 entries, 2014-12-31 to 2024-06-30\n",
      "Data columns (total 7 columns):\n",
      " #   Column                              Non-Null Count  Dtype  \n",
      "---  ------                              --------------  -----  \n",
      " 0   Working Capital/Total Assets        39 non-null     float64\n",
      " 1   RetainedEarnings/TotalAssets        39 non-null     float64\n",
      " 2   EBIT/TotalAssets                    39 non-null     float64\n",
      " 3   BookValueofEquity/TotalLiabilities  39 non-null     float64\n",
      " 4   Interest Coverage                   39 non-null     float64\n",
      " 5   CPI                                 39 non-null     float64\n",
      " 6   IAK                                 39 non-null     float64\n",
      "dtypes: float64(7)\n",
      "memory usage: 2.4 KB\n"
     ]
    }
   ],
   "source": [
    "dataframes[\"BRK\"].info()"
   ]
  },
  {
   "cell_type": "code",
   "execution_count": 23,
   "id": "180b3e52-34e3-4fb3-8081-5e03eb5a0706",
   "metadata": {},
   "outputs": [],
   "source": [
    "\n",
    "target_columns = [\n",
    "    \"Working Capital/Total Assets\",\n",
    "    \"RetainedEarnings/TotalAssets\",\n",
    "    \"EBIT/TotalAssets\",\n",
    "    \"BookValueofEquity/TotalLiabilities\"\n",
    "]\n",
    "\n"
   ]
  },
  {
   "cell_type": "code",
   "execution_count": 31,
   "id": "5ff6eef5-abf7-4ff0-ab20-ff1cc1e0dd96",
   "metadata": {},
   "outputs": [
    {
     "name": "stdout",
     "output_type": "stream",
     "text": [
      "Defaulting to user installation because normal site-packages is not writeable\n",
      "Collecting xgboost\n",
      "  Downloading xgboost-2.1.3-py3-none-win_amd64.whl.metadata (2.1 kB)\n",
      "Requirement already satisfied: numpy in c:\\programdata\\anaconda3\\lib\\site-packages (from xgboost) (1.26.4)\n",
      "Requirement already satisfied: scipy in c:\\programdata\\anaconda3\\lib\\site-packages (from xgboost) (1.13.1)\n",
      "Downloading xgboost-2.1.3-py3-none-win_amd64.whl (124.9 MB)\n",
      "   ---------------------------------------- 0.0/124.9 MB ? eta -:--:--\n",
      "   ---------------------------------------- 0.0/124.9 MB ? eta -:--:--\n",
      "   ---------------------------------------- 0.1/124.9 MB 812.7 kB/s eta 0:02:34\n",
      "   ---------------------------------------- 0.4/124.9 MB 2.5 MB/s eta 0:00:49\n",
      "   ---------------------------------------- 0.9/124.9 MB 5.3 MB/s eta 0:00:24\n",
      "    --------------------------------------- 1.8/124.9 MB 8.4 MB/s eta 0:00:15\n",
      "   - -------------------------------------- 4.2/124.9 MB 15.9 MB/s eta 0:00:08\n",
      "   -- ------------------------------------- 7.1/124.9 MB 22.7 MB/s eta 0:00:06\n",
      "   -- ------------------------------------- 9.3/124.9 MB 27.0 MB/s eta 0:00:05\n",
      "   --- ------------------------------------ 11.3/124.9 MB 50.4 MB/s eta 0:00:03\n",
      "   ---- ----------------------------------- 13.6/124.9 MB 59.5 MB/s eta 0:00:02\n",
      "   ---- ----------------------------------- 15.4/124.9 MB 54.4 MB/s eta 0:00:03\n",
      "   ----- ---------------------------------- 18.3/124.9 MB 54.4 MB/s eta 0:00:02\n",
      "   ------ --------------------------------- 20.0/124.9 MB 54.4 MB/s eta 0:00:02\n",
      "   ------- -------------------------------- 22.9/124.9 MB 54.4 MB/s eta 0:00:02\n",
      "   ------- -------------------------------- 24.1/124.9 MB 54.7 MB/s eta 0:00:02\n",
      "   ------- -------------------------------- 24.1/124.9 MB 54.7 MB/s eta 0:00:02\n",
      "   --------- ------------------------------ 28.9/124.9 MB 50.4 MB/s eta 0:00:02\n",
      "   ---------- ----------------------------- 31.4/124.9 MB 50.4 MB/s eta 0:00:02\n",
      "   ---------- ----------------------------- 33.5/124.9 MB 50.1 MB/s eta 0:00:02\n",
      "   ----------- ---------------------------- 36.0/124.9 MB 72.6 MB/s eta 0:00:02\n",
      "   ----------- ---------------------------- 37.4/124.9 MB 54.4 MB/s eta 0:00:02\n",
      "   ------------ --------------------------- 39.7/124.9 MB 50.1 MB/s eta 0:00:02\n",
      "   ------------- -------------------------- 42.7/124.9 MB 54.4 MB/s eta 0:00:02\n",
      "   -------------- ------------------------- 45.1/124.9 MB 54.4 MB/s eta 0:00:02\n",
      "   -------------- ------------------------- 45.8/124.9 MB 54.7 MB/s eta 0:00:02\n",
      "   -------------- ------------------------- 46.2/124.9 MB 40.9 MB/s eta 0:00:02\n",
      "   ---------------- ----------------------- 51.4/124.9 MB 54.4 MB/s eta 0:00:02\n",
      "   ----------------- ---------------------- 53.4/124.9 MB 50.1 MB/s eta 0:00:02\n",
      "   ----------------- ---------------------- 55.8/124.9 MB 50.4 MB/s eta 0:00:02\n",
      "   ------------------ --------------------- 57.3/124.9 MB 65.2 MB/s eta 0:00:02\n",
      "   ------------------ --------------------- 58.0/124.9 MB 50.1 MB/s eta 0:00:02\n",
      "   ------------------- -------------------- 59.8/124.9 MB 46.7 MB/s eta 0:00:02\n",
      "   -------------------- ------------------- 62.9/124.9 MB 40.9 MB/s eta 0:00:02\n",
      "   -------------------- ------------------- 64.2/124.9 MB 46.7 MB/s eta 0:00:02\n",
      "   -------------------- ------------------- 64.2/124.9 MB 46.7 MB/s eta 0:00:02\n",
      "   -------------------- ------------------- 64.2/124.9 MB 32.7 MB/s eta 0:00:02\n",
      "   ---------------------- ----------------- 69.2/124.9 MB 43.5 MB/s eta 0:00:02\n",
      "   ---------------------- ----------------- 71.5/124.9 MB 43.7 MB/s eta 0:00:02\n",
      "   ----------------------- ---------------- 73.5/124.9 MB 43.5 MB/s eta 0:00:02\n",
      "   ------------------------ --------------- 76.4/124.9 MB 65.2 MB/s eta 0:00:01\n",
      "   ------------------------- -------------- 79.0/124.9 MB 54.7 MB/s eta 0:00:01\n",
      "   -------------------------- ------------- 81.6/124.9 MB 54.7 MB/s eta 0:00:01\n",
      "   --------------------------- ------------ 84.4/124.9 MB 59.5 MB/s eta 0:00:01\n",
      "   --------------------------- ------------ 87.3/124.9 MB 65.6 MB/s eta 0:00:01\n",
      "   ---------------------------- ----------- 90.1/124.9 MB 59.5 MB/s eta 0:00:01\n",
      "   ----------------------------- ---------- 93.2/124.9 MB 65.6 MB/s eta 0:00:01\n",
      "   ------------------------------ --------- 96.1/124.9 MB 59.5 MB/s eta 0:00:01\n",
      "   ------------------------------- -------- 98.9/124.9 MB 59.5 MB/s eta 0:00:01\n",
      "   ------------------------------- ------- 101.7/124.9 MB 59.8 MB/s eta 0:00:01\n",
      "   -------------------------------- ------ 104.5/124.9 MB 65.2 MB/s eta 0:00:01\n",
      "   --------------------------------- ----- 107.5/124.9 MB 59.5 MB/s eta 0:00:01\n",
      "   ---------------------------------- ---- 110.4/124.9 MB 59.5 MB/s eta 0:00:01\n",
      "   ----------------------------------- --- 113.1/124.9 MB 59.5 MB/s eta 0:00:01\n",
      "   ------------------------------------ -- 115.5/124.9 MB 65.6 MB/s eta 0:00:01\n",
      "   ------------------------------------ -- 117.0/124.9 MB 54.7 MB/s eta 0:00:01\n",
      "   ------------------------------------- - 119.5/124.9 MB 54.4 MB/s eta 0:00:01\n",
      "   --------------------------------------  122.3/124.9 MB 50.4 MB/s eta 0:00:01\n",
      "   --------------------------------------  124.9/124.9 MB 54.4 MB/s eta 0:00:01\n",
      "   --------------------------------------  124.9/124.9 MB 54.4 MB/s eta 0:00:01\n",
      "   --------------------------------------  124.9/124.9 MB 54.4 MB/s eta 0:00:01\n",
      "   --------------------------------------  124.9/124.9 MB 54.4 MB/s eta 0:00:01\n",
      "   --------------------------------------  124.9/124.9 MB 54.4 MB/s eta 0:00:01\n",
      "   --------------------------------------  124.9/124.9 MB 54.4 MB/s eta 0:00:01\n",
      "   --------------------------------------  124.9/124.9 MB 54.4 MB/s eta 0:00:01\n",
      "   --------------------------------------- 124.9/124.9 MB 20.4 MB/s eta 0:00:00\n",
      "Installing collected packages: xgboost\n",
      "Successfully installed xgboost-2.1.3\n"
     ]
    }
   ],
   "source": [
    "!pip install xgboost"
   ]
  },
  {
   "cell_type": "code",
   "execution_count": 33,
   "id": "a6d0aa3a-f3ec-4a6c-8e27-1b8b7fe7ac27",
   "metadata": {},
   "outputs": [
    {
     "name": "stdout",
     "output_type": "stream",
     "text": [
      "🔹 BRK - Working Capital/Total Assets\n",
      "📉 MAE: 0.031148043537861186, RMSE: 0.044210402125576205, R²: -0.05573126046246446\n",
      "\n",
      "🔹 BRK - RetainedEarnings/TotalAssets\n",
      "📉 MAE: 0.08331750074886324, RMSE: 0.11017786431390772, R²: -71.04261011619847\n",
      "\n",
      "🔹 BRK - EBIT/TotalAssets\n",
      "📉 MAE: 0.009462696010582925, RMSE: 0.011493417840477476, R²: 0.7322628338568427\n",
      "\n",
      "🔹 BRK - BookValueofEquity/TotalLiabilities\n",
      "📉 MAE: 0.14774899248154705, RMSE: 0.1647669869746001, R²: -11.925615360127715\n",
      "\n"
     ]
    },
    {
     "ename": "ValueError",
     "evalue": "feature_names mismatch: ['Interest Coverage', 'CPI', 'IAK', 'Working Capital/Total Assets_lag1', 'Working Capital/Total Assets_lag2', 'Working Capital/Total Assets_lag3', 'Working Capital/Total Assets_lag4', 'Working Capital/Total Assets_lag5', 'Working Capital/Total Assets_lag6', 'Working Capital/Total Assets_lag7', 'Working Capital/Total Assets_lag8', 'Working Capital/Total Assets_lag9', 'Working Capital/Total Assets_lag10', 'RetainedEarnings/TotalAssets_lag1', 'RetainedEarnings/TotalAssets_lag2', 'RetainedEarnings/TotalAssets_lag3', 'RetainedEarnings/TotalAssets_lag4', 'RetainedEarnings/TotalAssets_lag5', 'RetainedEarnings/TotalAssets_lag6', 'RetainedEarnings/TotalAssets_lag7', 'RetainedEarnings/TotalAssets_lag8', 'RetainedEarnings/TotalAssets_lag9', 'RetainedEarnings/TotalAssets_lag10', 'EBIT/TotalAssets_lag1', 'EBIT/TotalAssets_lag2', 'EBIT/TotalAssets_lag3', 'EBIT/TotalAssets_lag4', 'EBIT/TotalAssets_lag5', 'EBIT/TotalAssets_lag6', 'EBIT/TotalAssets_lag7', 'EBIT/TotalAssets_lag8', 'EBIT/TotalAssets_lag9', 'EBIT/TotalAssets_lag10', 'BookValueofEquity/TotalLiabilities_lag1', 'BookValueofEquity/TotalLiabilities_lag2', 'BookValueofEquity/TotalLiabilities_lag3', 'BookValueofEquity/TotalLiabilities_lag4', 'BookValueofEquity/TotalLiabilities_lag5', 'BookValueofEquity/TotalLiabilities_lag6', 'BookValueofEquity/TotalLiabilities_lag7', 'BookValueofEquity/TotalLiabilities_lag8', 'BookValueofEquity/TotalLiabilities_lag9', 'BookValueofEquity/TotalLiabilities_lag10'] ['Interest Coverage', 'CPI', 'IAK', 'Working Capital/Total Assets_lag1', 'Working Capital/Total Assets_lag2', 'Working Capital/Total Assets_lag3', 'Working Capital/Total Assets_lag4', 'Working Capital/Total Assets_lag5', 'Working Capital/Total Assets_lag6', 'Working Capital/Total Assets_lag7', 'Working Capital/Total Assets_lag8', 'Working Capital/Total Assets_lag9', 'Working Capital/Total Assets_lag10', 'RetainedEarnings/TotalAssets_lag1', 'RetainedEarnings/TotalAssets_lag2', 'RetainedEarnings/TotalAssets_lag3', 'RetainedEarnings/TotalAssets_lag4', 'RetainedEarnings/TotalAssets_lag5', 'RetainedEarnings/TotalAssets_lag6', 'RetainedEarnings/TotalAssets_lag7', 'RetainedEarnings/TotalAssets_lag8', 'RetainedEarnings/TotalAssets_lag9', 'RetainedEarnings/TotalAssets_lag10', 'EBIT/TotalAssets_lag1', 'EBIT/TotalAssets_lag2', 'EBIT/TotalAssets_lag3', 'EBIT/TotalAssets_lag4', 'EBIT/TotalAssets_lag5', 'EBIT/TotalAssets_lag6', 'EBIT/TotalAssets_lag7', 'EBIT/TotalAssets_lag8', 'EBIT/TotalAssets_lag9', 'EBIT/TotalAssets_lag10', 'BookValueofEquity/TotalLiabilities_lag1', 'BookValueofEquity/TotalLiabilities_lag2', 'BookValueofEquity/TotalLiabilities_lag3', 'BookValueofEquity/TotalLiabilities_lag4', 'BookValueofEquity/TotalLiabilities_lag5', 'BookValueofEquity/TotalLiabilities_lag6', 'BookValueofEquity/TotalLiabilities_lag7', 'BookValueofEquity/TotalLiabilities_lag8', 'BookValueofEquity/TotalLiabilities_lag9', 'BookValueofEquity/TotalLiabilities_lag10', 'Working Capital/Total Assets']\ntraining data did not have the following fields: Working Capital/Total Assets",
     "output_type": "error",
     "traceback": [
      "\u001b[1;31m---------------------------------------------------------------------------\u001b[0m",
      "\u001b[1;31mValueError\u001b[0m                                Traceback (most recent call last)",
      "Cell \u001b[1;32mIn[33], line 51\u001b[0m\n\u001b[0;32m     49\u001b[0m last_row \u001b[38;5;241m=\u001b[39m X\u001b[38;5;241m.\u001b[39miloc[\u001b[38;5;241m-\u001b[39m\u001b[38;5;241m1\u001b[39m:]\u001b[38;5;241m.\u001b[39mcopy()  \u001b[38;5;66;03m# Get last available row as input\u001b[39;00m\n\u001b[0;32m     50\u001b[0m \u001b[38;5;28;01mfor\u001b[39;00m target \u001b[38;5;129;01min\u001b[39;00m target_columns:\n\u001b[1;32m---> 51\u001b[0m     last_row[target] \u001b[38;5;241m=\u001b[39m models[target]\u001b[38;5;241m.\u001b[39mpredict(last_row)\n\u001b[0;32m     53\u001b[0m \u001b[38;5;66;03m# Prepare forecast DataFrame\u001b[39;00m\n\u001b[0;32m     54\u001b[0m next_step_date \u001b[38;5;241m=\u001b[39m df\u001b[38;5;241m.\u001b[39mindex[\u001b[38;5;241m-\u001b[39m\u001b[38;5;241m1\u001b[39m] \u001b[38;5;241m+\u001b[39m pd\u001b[38;5;241m.\u001b[39mDateOffset(months\u001b[38;5;241m=\u001b[39m\u001b[38;5;241m3\u001b[39m)  \u001b[38;5;66;03m# Adjust for quarterly predictions\u001b[39;00m\n",
      "File \u001b[1;32m~\\AppData\\Roaming\\Python\\Python312\\site-packages\\xgboost\\sklearn.py:1186\u001b[0m, in \u001b[0;36mXGBModel.predict\u001b[1;34m(self, X, output_margin, validate_features, base_margin, iteration_range)\u001b[0m\n\u001b[0;32m   1184\u001b[0m \u001b[38;5;28;01mif\u001b[39;00m \u001b[38;5;28mself\u001b[39m\u001b[38;5;241m.\u001b[39m_can_use_inplace_predict():\n\u001b[0;32m   1185\u001b[0m     \u001b[38;5;28;01mtry\u001b[39;00m:\n\u001b[1;32m-> 1186\u001b[0m         predts \u001b[38;5;241m=\u001b[39m \u001b[38;5;28mself\u001b[39m\u001b[38;5;241m.\u001b[39mget_booster()\u001b[38;5;241m.\u001b[39minplace_predict(\n\u001b[0;32m   1187\u001b[0m             data\u001b[38;5;241m=\u001b[39mX,\n\u001b[0;32m   1188\u001b[0m             iteration_range\u001b[38;5;241m=\u001b[39miteration_range,\n\u001b[0;32m   1189\u001b[0m             predict_type\u001b[38;5;241m=\u001b[39m\u001b[38;5;124m\"\u001b[39m\u001b[38;5;124mmargin\u001b[39m\u001b[38;5;124m\"\u001b[39m \u001b[38;5;28;01mif\u001b[39;00m output_margin \u001b[38;5;28;01melse\u001b[39;00m \u001b[38;5;124m\"\u001b[39m\u001b[38;5;124mvalue\u001b[39m\u001b[38;5;124m\"\u001b[39m,\n\u001b[0;32m   1190\u001b[0m             missing\u001b[38;5;241m=\u001b[39m\u001b[38;5;28mself\u001b[39m\u001b[38;5;241m.\u001b[39mmissing,\n\u001b[0;32m   1191\u001b[0m             base_margin\u001b[38;5;241m=\u001b[39mbase_margin,\n\u001b[0;32m   1192\u001b[0m             validate_features\u001b[38;5;241m=\u001b[39mvalidate_features,\n\u001b[0;32m   1193\u001b[0m         )\n\u001b[0;32m   1194\u001b[0m         \u001b[38;5;28;01mif\u001b[39;00m _is_cupy_alike(predts):\n\u001b[0;32m   1195\u001b[0m             \u001b[38;5;28;01mimport\u001b[39;00m \u001b[38;5;21;01mcupy\u001b[39;00m  \u001b[38;5;66;03m# pylint: disable=import-error\u001b[39;00m\n",
      "File \u001b[1;32m~\\AppData\\Roaming\\Python\\Python312\\site-packages\\xgboost\\core.py:2514\u001b[0m, in \u001b[0;36mBooster.inplace_predict\u001b[1;34m(self, data, iteration_range, predict_type, missing, validate_features, base_margin, strict_shape)\u001b[0m\n\u001b[0;32m   2512\u001b[0m     data, fns, _ \u001b[38;5;241m=\u001b[39m _transform_pandas_df(data, enable_categorical)\n\u001b[0;32m   2513\u001b[0m     \u001b[38;5;28;01mif\u001b[39;00m validate_features:\n\u001b[1;32m-> 2514\u001b[0m         \u001b[38;5;28mself\u001b[39m\u001b[38;5;241m.\u001b[39m_validate_features(fns)\n\u001b[0;32m   2515\u001b[0m \u001b[38;5;28;01mif\u001b[39;00m _is_list(data) \u001b[38;5;129;01mor\u001b[39;00m _is_tuple(data):\n\u001b[0;32m   2516\u001b[0m     data \u001b[38;5;241m=\u001b[39m np\u001b[38;5;241m.\u001b[39marray(data)\n",
      "File \u001b[1;32m~\\AppData\\Roaming\\Python\\Python312\\site-packages\\xgboost\\core.py:3079\u001b[0m, in \u001b[0;36mBooster._validate_features\u001b[1;34m(self, feature_names)\u001b[0m\n\u001b[0;32m   3073\u001b[0m \u001b[38;5;28;01mif\u001b[39;00m my_missing:\n\u001b[0;32m   3074\u001b[0m     msg \u001b[38;5;241m+\u001b[39m\u001b[38;5;241m=\u001b[39m (\n\u001b[0;32m   3075\u001b[0m         \u001b[38;5;124m\"\u001b[39m\u001b[38;5;130;01m\\n\u001b[39;00m\u001b[38;5;124mtraining data did not have the following fields: \u001b[39m\u001b[38;5;124m\"\u001b[39m\n\u001b[0;32m   3076\u001b[0m         \u001b[38;5;241m+\u001b[39m \u001b[38;5;124m\"\u001b[39m\u001b[38;5;124m, \u001b[39m\u001b[38;5;124m\"\u001b[39m\u001b[38;5;241m.\u001b[39mjoin(\u001b[38;5;28mstr\u001b[39m(s) \u001b[38;5;28;01mfor\u001b[39;00m s \u001b[38;5;129;01min\u001b[39;00m my_missing)\n\u001b[0;32m   3077\u001b[0m     )\n\u001b[1;32m-> 3079\u001b[0m \u001b[38;5;28;01mraise\u001b[39;00m \u001b[38;5;167;01mValueError\u001b[39;00m(msg\u001b[38;5;241m.\u001b[39mformat(\u001b[38;5;28mself\u001b[39m\u001b[38;5;241m.\u001b[39mfeature_names, feature_names))\n",
      "\u001b[1;31mValueError\u001b[0m: feature_names mismatch: ['Interest Coverage', 'CPI', 'IAK', 'Working Capital/Total Assets_lag1', 'Working Capital/Total Assets_lag2', 'Working Capital/Total Assets_lag3', 'Working Capital/Total Assets_lag4', 'Working Capital/Total Assets_lag5', 'Working Capital/Total Assets_lag6', 'Working Capital/Total Assets_lag7', 'Working Capital/Total Assets_lag8', 'Working Capital/Total Assets_lag9', 'Working Capital/Total Assets_lag10', 'RetainedEarnings/TotalAssets_lag1', 'RetainedEarnings/TotalAssets_lag2', 'RetainedEarnings/TotalAssets_lag3', 'RetainedEarnings/TotalAssets_lag4', 'RetainedEarnings/TotalAssets_lag5', 'RetainedEarnings/TotalAssets_lag6', 'RetainedEarnings/TotalAssets_lag7', 'RetainedEarnings/TotalAssets_lag8', 'RetainedEarnings/TotalAssets_lag9', 'RetainedEarnings/TotalAssets_lag10', 'EBIT/TotalAssets_lag1', 'EBIT/TotalAssets_lag2', 'EBIT/TotalAssets_lag3', 'EBIT/TotalAssets_lag4', 'EBIT/TotalAssets_lag5', 'EBIT/TotalAssets_lag6', 'EBIT/TotalAssets_lag7', 'EBIT/TotalAssets_lag8', 'EBIT/TotalAssets_lag9', 'EBIT/TotalAssets_lag10', 'BookValueofEquity/TotalLiabilities_lag1', 'BookValueofEquity/TotalLiabilities_lag2', 'BookValueofEquity/TotalLiabilities_lag3', 'BookValueofEquity/TotalLiabilities_lag4', 'BookValueofEquity/TotalLiabilities_lag5', 'BookValueofEquity/TotalLiabilities_lag6', 'BookValueofEquity/TotalLiabilities_lag7', 'BookValueofEquity/TotalLiabilities_lag8', 'BookValueofEquity/TotalLiabilities_lag9', 'BookValueofEquity/TotalLiabilities_lag10'] ['Interest Coverage', 'CPI', 'IAK', 'Working Capital/Total Assets_lag1', 'Working Capital/Total Assets_lag2', 'Working Capital/Total Assets_lag3', 'Working Capital/Total Assets_lag4', 'Working Capital/Total Assets_lag5', 'Working Capital/Total Assets_lag6', 'Working Capital/Total Assets_lag7', 'Working Capital/Total Assets_lag8', 'Working Capital/Total Assets_lag9', 'Working Capital/Total Assets_lag10', 'RetainedEarnings/TotalAssets_lag1', 'RetainedEarnings/TotalAssets_lag2', 'RetainedEarnings/TotalAssets_lag3', 'RetainedEarnings/TotalAssets_lag4', 'RetainedEarnings/TotalAssets_lag5', 'RetainedEarnings/TotalAssets_lag6', 'RetainedEarnings/TotalAssets_lag7', 'RetainedEarnings/TotalAssets_lag8', 'RetainedEarnings/TotalAssets_lag9', 'RetainedEarnings/TotalAssets_lag10', 'EBIT/TotalAssets_lag1', 'EBIT/TotalAssets_lag2', 'EBIT/TotalAssets_lag3', 'EBIT/TotalAssets_lag4', 'EBIT/TotalAssets_lag5', 'EBIT/TotalAssets_lag6', 'EBIT/TotalAssets_lag7', 'EBIT/TotalAssets_lag8', 'EBIT/TotalAssets_lag9', 'EBIT/TotalAssets_lag10', 'BookValueofEquity/TotalLiabilities_lag1', 'BookValueofEquity/TotalLiabilities_lag2', 'BookValueofEquity/TotalLiabilities_lag3', 'BookValueofEquity/TotalLiabilities_lag4', 'BookValueofEquity/TotalLiabilities_lag5', 'BookValueofEquity/TotalLiabilities_lag6', 'BookValueofEquity/TotalLiabilities_lag7', 'BookValueofEquity/TotalLiabilities_lag8', 'BookValueofEquity/TotalLiabilities_lag9', 'BookValueofEquity/TotalLiabilities_lag10', 'Working Capital/Total Assets']\ntraining data did not have the following fields: Working Capital/Total Assets"
     ]
    }
   ],
   "source": [
    "import numpy as np\n",
    "import pandas as pd\n",
    "import xgboost as xgb\n",
    "from sklearn.model_selection import train_test_split\n",
    "from sklearn.metrics import mean_absolute_error, mean_squared_error, r2_score\n",
    "\n",
    "# Function to create lag features for time series\n",
    "def create_lagged_features(df, target_columns, lags=10):\n",
    "    df_lagged = df.copy()\n",
    "    for target in target_columns:\n",
    "        for lag in range(1, lags + 1):\n",
    "            df_lagged[f\"{target}_lag{lag}\"] = df_lagged[target].shift(lag)\n",
    "    df_lagged.dropna(inplace=True)  # Remove NaNs due to shifting\n",
    "    return df_lagged\n",
    "\n",
    "# Train and forecast for each ticker\n",
    "forecast_dfs = []\n",
    "for ticker, df in dataframes.items():\n",
    "    # Create lag features\n",
    "    df_lagged = create_lagged_features(df, target_columns)\n",
    "\n",
    "    # Define features (X) and target variables (y)\n",
    "    feature_columns = [col for col in df_lagged.columns if col not in target_columns]\n",
    "    X = df_lagged[feature_columns]\n",
    "    y = df_lagged[target_columns]\n",
    "\n",
    "    # Split data into train and test sets\n",
    "    X_train, X_test, y_train, y_test = train_test_split(X, y, test_size=0.2, shuffle=False)\n",
    "\n",
    "    # Train XGBoost model for each target variable\n",
    "    models = {}\n",
    "    predictions = {}\n",
    "    \n",
    "    for i, target in enumerate(target_columns):\n",
    "        model = xgb.XGBRegressor(objective=\"reg:squarederror\", n_estimators=100, learning_rate=0.05, max_depth=5)\n",
    "        model.fit(X_train, y_train.iloc[:, i])\n",
    "        models[target] = model\n",
    "        predictions[target] = model.predict(X_test)\n",
    "\n",
    "    # Evaluate performance\n",
    "    for i, target in enumerate(target_columns):\n",
    "        print(f\"🔹 {ticker} - {target}\")\n",
    "        mae = mean_absolute_error(y_test.iloc[:, i], predictions[target])\n",
    "        rmse = np.sqrt(mean_squared_error(y_test.iloc[:, i], predictions[target]))\n",
    "        r2 = r2_score(y_test.iloc[:, i], predictions[target])\n",
    "        print(f\"📉 MAE: {mae}, RMSE: {rmse}, R²: {r2}\\n\")\n",
    "\n",
    "    # Forecast next step\n",
    "    last_row = X.iloc[-1:].copy()  # Get last available row as input\n",
    "    for target in target_columns:\n",
    "        last_row[target] = models[target].predict(last_row)\n",
    "\n",
    "    # Prepare forecast DataFrame\n",
    "    next_step_date = df.index[-1] + pd.DateOffset(months=3)  # Adjust for quarterly predictions\n",
    "    forecast_df = pd.DataFrame({\n",
    "        \"Date\": [next_step_date],\n",
    "        \"Ticker\": [ticker],\n",
    "        \"Predicted_WorkingCapital_TotalAssets\": [last_row[\"Working Capital/Total Assets\"].values[0]],\n",
    "        \"Predicted_RetainedEarnings_TotalAssets\": [last_row[\"RetainedEarnings/TotalAssets\"].values[0]],\n",
    "        \"Predicted_EBIT_TotalAssets\": [last_row[\"EBIT/TotalAssets\"].values[0]],\n",
    "        \"Predicted_BookValueofEquity_TotalLiabilities\": [last_row[\"BookValueofEquity/TotalLiabilities\"].values[0]]\n",
    "    })\n",
    "    forecast_dfs.append(forecast_df)\n",
    "\n",
    "# Combine forecasts for all tickers\n",
    "all_forecasts = pd.concat(forecast_dfs, ignore_index=True)\n",
    "\n",
    "# Display the final forecast DataFrame\n",
    "print(all_forecasts)"
   ]
  },
  {
   "cell_type": "code",
   "execution_count": null,
   "id": "f657118b-9222-4ae6-bd7b-0841de7caae7",
   "metadata": {},
   "outputs": [],
   "source": [
    "forecast_dfs[0]"
   ]
  },
  {
   "cell_type": "code",
   "execution_count": null,
   "id": "bdbd12dc-6275-41cc-915a-8354fe055e8c",
   "metadata": {},
   "outputs": [],
   "source": [
    "dataframes[\"BRK\"].tail()"
   ]
  },
  {
   "cell_type": "code",
   "execution_count": null,
   "id": "0978e1a1-1ec8-4c66-9c64-82bc3095c2ce",
   "metadata": {},
   "outputs": [],
   "source": []
  }
 ],
 "metadata": {
  "kernelspec": {
   "display_name": "Python 3 (ipykernel)",
   "language": "python",
   "name": "python3"
  },
  "language_info": {
   "codemirror_mode": {
    "name": "ipython",
    "version": 3
   },
   "file_extension": ".py",
   "mimetype": "text/x-python",
   "name": "python",
   "nbconvert_exporter": "python",
   "pygments_lexer": "ipython3",
   "version": "3.12.4"
  }
 },
 "nbformat": 4,
 "nbformat_minor": 5
}
